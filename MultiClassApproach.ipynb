{
  "nbformat": 4,
  "nbformat_minor": 0,
  "metadata": {
    "colab": {
      "provenance": []
    },
    "kernelspec": {
      "name": "python3",
      "display_name": "Python 3"
    },
    "language_info": {
      "name": "python"
    }
  },
  "cells": [
    {
      "cell_type": "markdown",
      "source": [
        "# Мультиклассовая классификация\n",
        "\n",
        "В данном ноутбуке рассмотрим подход к задаче с точки зрения мультиклассовой классификации. То есть, мы не будем учитывать порядок классов, а попробуем просто спрогнозировать их, как равнозначные.\n",
        "\n",
        "В ноутбуке с анализом данных, исходя из корреляций признаков объектов и целевого значения, удалось установить, что многие признаки имеют высокую корреляцию с таргетом. Таким образом, стоит попробовать модель LogisticRegression.\n",
        "\n",
        "Также рассмотрим ансабль на деревьях - случайный лес и градиентный бустинг."
      ],
      "metadata": {
        "id": "AxiBjcIRmT6f"
      }
    },
    {
      "cell_type": "code",
      "execution_count": 1,
      "metadata": {
        "id": "YW6jkQSwl9YF"
      },
      "outputs": [],
      "source": [
        "import pandas as pd\n",
        "import numpy as np"
      ]
    },
    {
      "cell_type": "code",
      "source": [
        "df_train = pd.read_csv(\"/content/drive/MyDrive/intern_task_train.csv\")\n",
        "df_test = pd.read_csv(\"/content/drive/MyDrive/intern_task_test.csv\")"
      ],
      "metadata": {
        "id": "vfo1cN43nMzB"
      },
      "execution_count": 3,
      "outputs": []
    },
    {
      "cell_type": "markdown",
      "source": [
        "Предварительно создадим функцию для оценки требуемой метрики ранжирования NDCG_5.\n",
        "\n",
        "Из анализа датасета, удалось установить, что количество документов, соответсвующих поисковой сессии, не имет фиксированную длину. А также может быть меньше 5."
      ],
      "metadata": {
        "id": "8sdj4sexnXVg"
      }
    },
    {
      "cell_type": "code",
      "source": [
        "from sklearn.metrics import ndcg_score\n",
        "from sklearn.metrics import accuracy_score\n",
        "\n",
        "\n",
        "def NDCG_atK_score(test_Data, pred_Data, k):\n",
        "  query_ids = test_Data['query_id'].unique()\n",
        "  test_Data_ranks = np.array([[test_Data[test_Data['query_id'] == id]['rank'].iloc[i] for i in range(min(len(test_Data[test_Data['query_id'] == id]), k))] + [0 for _ in range(max(0, k - len(test_Data[test_Data['query_id'] == id])))] for id in query_ids])\n",
        "  pred_Data_ranks = np.array([[pred_Data[pred_Data['query_id'] == id]['rank'].iloc[i] for i in range(min(len(pred_Data[pred_Data['query_id'] == id]), k))] + [0 for _ in range(max(0, k - len(pred_Data[pred_Data['query_id'] == id])))] for id in query_ids])\n",
        "  return ndcg_score(test_Data_ranks, pred_Data_ranks)"
      ],
      "metadata": {
        "id": "7W1Ozb5_nT23"
      },
      "execution_count": 64,
      "outputs": []
    },
    {
      "cell_type": "markdown",
      "source": [
        "### Попробуем применить модели классификации без какой-либо предобработки данных\n",
        "\n",
        "Например, возьмем ансабль на деревьях RandomForestClassifier из библиотеки scikit-learn"
      ],
      "metadata": {
        "id": "FyZD27_6zr8C"
      }
    },
    {
      "cell_type": "code",
      "source": [
        "!pip install catboost"
      ],
      "metadata": {
        "id": "2GrApIfv0sKf"
      },
      "execution_count": null,
      "outputs": []
    },
    {
      "cell_type": "code",
      "source": [
        "from sklearn.ensemble import RandomForestClassifier"
      ],
      "metadata": {
        "id": "eQLSdfuVzrc4"
      },
      "execution_count": 57,
      "outputs": []
    },
    {
      "cell_type": "code",
      "source": [
        "RFC = RandomForestClassifier()\n",
        "RFC.fit(df_train.drop(columns=['rank', 'query_id']), df_train['rank'])"
      ],
      "metadata": {
        "colab": {
          "base_uri": "https://localhost:8080/",
          "height": 74
        },
        "id": "oDbl8g77so6r",
        "outputId": "d18f85af-2f13-4ec1-858d-36c8c77ec375"
      },
      "execution_count": 58,
      "outputs": [
        {
          "output_type": "execute_result",
          "data": {
            "text/plain": [
              "RandomForestClassifier()"
            ],
            "text/html": [
              "<style>#sk-container-id-3 {color: black;background-color: white;}#sk-container-id-3 pre{padding: 0;}#sk-container-id-3 div.sk-toggleable {background-color: white;}#sk-container-id-3 label.sk-toggleable__label {cursor: pointer;display: block;width: 100%;margin-bottom: 0;padding: 0.3em;box-sizing: border-box;text-align: center;}#sk-container-id-3 label.sk-toggleable__label-arrow:before {content: \"▸\";float: left;margin-right: 0.25em;color: #696969;}#sk-container-id-3 label.sk-toggleable__label-arrow:hover:before {color: black;}#sk-container-id-3 div.sk-estimator:hover label.sk-toggleable__label-arrow:before {color: black;}#sk-container-id-3 div.sk-toggleable__content {max-height: 0;max-width: 0;overflow: hidden;text-align: left;background-color: #f0f8ff;}#sk-container-id-3 div.sk-toggleable__content pre {margin: 0.2em;color: black;border-radius: 0.25em;background-color: #f0f8ff;}#sk-container-id-3 input.sk-toggleable__control:checked~div.sk-toggleable__content {max-height: 200px;max-width: 100%;overflow: auto;}#sk-container-id-3 input.sk-toggleable__control:checked~label.sk-toggleable__label-arrow:before {content: \"▾\";}#sk-container-id-3 div.sk-estimator input.sk-toggleable__control:checked~label.sk-toggleable__label {background-color: #d4ebff;}#sk-container-id-3 div.sk-label input.sk-toggleable__control:checked~label.sk-toggleable__label {background-color: #d4ebff;}#sk-container-id-3 input.sk-hidden--visually {border: 0;clip: rect(1px 1px 1px 1px);clip: rect(1px, 1px, 1px, 1px);height: 1px;margin: -1px;overflow: hidden;padding: 0;position: absolute;width: 1px;}#sk-container-id-3 div.sk-estimator {font-family: monospace;background-color: #f0f8ff;border: 1px dotted black;border-radius: 0.25em;box-sizing: border-box;margin-bottom: 0.5em;}#sk-container-id-3 div.sk-estimator:hover {background-color: #d4ebff;}#sk-container-id-3 div.sk-parallel-item::after {content: \"\";width: 100%;border-bottom: 1px solid gray;flex-grow: 1;}#sk-container-id-3 div.sk-label:hover label.sk-toggleable__label {background-color: #d4ebff;}#sk-container-id-3 div.sk-serial::before {content: \"\";position: absolute;border-left: 1px solid gray;box-sizing: border-box;top: 0;bottom: 0;left: 50%;z-index: 0;}#sk-container-id-3 div.sk-serial {display: flex;flex-direction: column;align-items: center;background-color: white;padding-right: 0.2em;padding-left: 0.2em;position: relative;}#sk-container-id-3 div.sk-item {position: relative;z-index: 1;}#sk-container-id-3 div.sk-parallel {display: flex;align-items: stretch;justify-content: center;background-color: white;position: relative;}#sk-container-id-3 div.sk-item::before, #sk-container-id-3 div.sk-parallel-item::before {content: \"\";position: absolute;border-left: 1px solid gray;box-sizing: border-box;top: 0;bottom: 0;left: 50%;z-index: -1;}#sk-container-id-3 div.sk-parallel-item {display: flex;flex-direction: column;z-index: 1;position: relative;background-color: white;}#sk-container-id-3 div.sk-parallel-item:first-child::after {align-self: flex-end;width: 50%;}#sk-container-id-3 div.sk-parallel-item:last-child::after {align-self: flex-start;width: 50%;}#sk-container-id-3 div.sk-parallel-item:only-child::after {width: 0;}#sk-container-id-3 div.sk-dashed-wrapped {border: 1px dashed gray;margin: 0 0.4em 0.5em 0.4em;box-sizing: border-box;padding-bottom: 0.4em;background-color: white;}#sk-container-id-3 div.sk-label label {font-family: monospace;font-weight: bold;display: inline-block;line-height: 1.2em;}#sk-container-id-3 div.sk-label-container {text-align: center;}#sk-container-id-3 div.sk-container {/* jupyter's `normalize.less` sets `[hidden] { display: none; }` but bootstrap.min.css set `[hidden] { display: none !important; }` so we also need the `!important` here to be able to override the default hidden behavior on the sphinx rendered scikit-learn.org. See: https://github.com/scikit-learn/scikit-learn/issues/21755 */display: inline-block !important;position: relative;}#sk-container-id-3 div.sk-text-repr-fallback {display: none;}</style><div id=\"sk-container-id-3\" class=\"sk-top-container\"><div class=\"sk-text-repr-fallback\"><pre>RandomForestClassifier()</pre><b>In a Jupyter environment, please rerun this cell to show the HTML representation or trust the notebook. <br />On GitHub, the HTML representation is unable to render, please try loading this page with nbviewer.org.</b></div><div class=\"sk-container\" hidden><div class=\"sk-item\"><div class=\"sk-estimator sk-toggleable\"><input class=\"sk-toggleable__control sk-hidden--visually\" id=\"sk-estimator-id-3\" type=\"checkbox\" checked><label for=\"sk-estimator-id-3\" class=\"sk-toggleable__label sk-toggleable__label-arrow\">RandomForestClassifier</label><div class=\"sk-toggleable__content\"><pre>RandomForestClassifier()</pre></div></div></div></div></div>"
            ]
          },
          "metadata": {},
          "execution_count": 58
        }
      ]
    },
    {
      "cell_type": "code",
      "source": [
        "RFC_pred = RFC.predict(df_test.drop(columns=['rank', 'query_id']))\n",
        "df_tmp = df_test.copy()\n",
        "df_tmp['rank'] = RFC_pred\n",
        "print(NDCG_atK_score(df_test, df_tmp, k=5))\n",
        "print(NDCG_atK_score(df_test, df_tmp, k=15))\n"
      ],
      "metadata": {
        "colab": {
          "base_uri": "https://localhost:8080/"
        },
        "id": "12qNzXWr-LVS",
        "outputId": "1b9b1de0-825b-4870-a9be-99dd7a0b2764"
      },
      "execution_count": 67,
      "outputs": [
        {
          "output_type": "stream",
          "name": "stdout",
          "text": [
            "0.9043281179672613\n",
            "0.8514035228749767\n"
          ]
        }
      ]
    },
    {
      "cell_type": "markdown",
      "source": [
        "Так как NDCG@k принимает значения из диапазона $[0, 1]$, при этом лучше, чем ближе к 1, то можно сказать, что модель справилась хорошо. Однако, если не ограничиваться k=5, а посмотреть, например, на k=15, то заметим, что показатель падает. Кроме того относительно высокий показатель метрики, связан с дисбалансом рангов (анализ данных показал, что большая часть объектов имеет ранг 0). Посмотрим на показатель accuracy модели."
      ],
      "metadata": {
        "id": "TGRotEm1_dVn"
      }
    },
    {
      "cell_type": "code",
      "source": [
        "accuracy_score(df_test['rank'], df_tmp['rank'])"
      ],
      "metadata": {
        "colab": {
          "base_uri": "https://localhost:8080/"
        },
        "id": "MYvViJvNAsUH",
        "outputId": "a5f5ff00-cc92-412b-df88-c17650994986"
      },
      "execution_count": 68,
      "outputs": [
        {
          "output_type": "execute_result",
          "data": {
            "text/plain": [
              "0.5453559435162589"
            ]
          },
          "metadata": {},
          "execution_count": 68
        }
      ]
    },
    {
      "cell_type": "markdown",
      "source": [
        "Accuracy_score получился довольно низкий, модель зачастую ошибается в предсказании метки ранга. При этом преобладание идет к тому, что модель в основном выдает метку 0. И как было сказано ранее из-за дисбаланса класса вполне справляется с ранжированием в среднем, но часто может допускать значимые ошибки."
      ],
      "metadata": {
        "id": "jyoKogcgBLuM"
      }
    },
    {
      "cell_type": "markdown",
      "source": [
        "### Попробуем использовать градиентный бустинг\n",
        "\n",
        "Теперь также используем данные о категориальных переменных, которые были получены при анализе датасета."
      ],
      "metadata": {
        "id": "KJqDxwP1E6mB"
      }
    },
    {
      "cell_type": "code",
      "source": [
        "from catboost import CatBoostClassifier\n",
        "\n",
        "to_drop = ['feature_14', 'feature_17', 'feature_19', 'feature_20',\n",
        "       'feature_29', 'feature_34', 'feature_35', 'feature_44',\n",
        "       'feature_74', 'feature_79', 'feature_84', 'feature_89',\n",
        "       'feature_94', 'feature_114', 'feature_119', 'feature_120',\n",
        "       'feature_121', 'feature_122', 'feature_123', 'feature_124',\n",
        "       'feature_142', 'feature_143'] # Удалим данные, которые имеют сверхвысокую корреляцию между собой\n",
        "\n",
        "df_train = df_train.drop(columns=to_drop)\n",
        "df_test = df_test.drop(columns=to_drop)\n",
        "\n",
        "cat_features = ['feature_95', 'feature_96', 'feature_97', 'feature_98', 'feature_99', 'feature_1', 'feature_3', 'feature_28', 'feature_33'] # категориальные признаки\n",
        "for feature in cat_features:\n",
        "  df_train[feature] = df_train[feature].astype(int)\n",
        "  df_test[feature] = df_test[feature].astype(int)\n",
        "\n",
        "\n",
        "CBC = CatBoostClassifier(verbose=False, cat_features=cat_features)"
      ],
      "metadata": {
        "id": "6b_3e7QACtqZ"
      },
      "execution_count": 71,
      "outputs": []
    },
    {
      "cell_type": "code",
      "source": [
        "CBC.fit(df_train.drop(columns=['rank', 'query_id']), df_train['rank'], cat_features=cat_features)"
      ],
      "metadata": {
        "colab": {
          "base_uri": "https://localhost:8080/"
        },
        "id": "dkbve-TBG2fk",
        "outputId": "1a66d86e-3a2a-4b5d-9037-487f7fa4c472"
      },
      "execution_count": 72,
      "outputs": [
        {
          "output_type": "execute_result",
          "data": {
            "text/plain": [
              "<catboost.core.CatBoostClassifier at 0x7a9406c89000>"
            ]
          },
          "metadata": {},
          "execution_count": 72
        }
      ]
    },
    {
      "cell_type": "code",
      "source": [
        "y_pred = CBC.predict(df_test.drop(columns=['rank', 'query_id']))\n",
        "\n",
        "df_tmp = df_test.copy()\n",
        "df_tmp['rank'] = y_pred\n",
        "\n",
        "print(NDCG_atK_score(df_test, df_tmp, k=5))\n",
        "print(NDCG_atK_score(df_test, df_tmp, k=15))\n",
        "print(accuracy_score(df_test['rank'], y_pred))"
      ],
      "metadata": {
        "colab": {
          "base_uri": "https://localhost:8080/"
        },
        "id": "gJmBBJyEHCuD",
        "outputId": "29008add-757d-4a5f-987b-6b594466d8eb"
      },
      "execution_count": 74,
      "outputs": [
        {
          "output_type": "stream",
          "name": "stdout",
          "text": [
            "0.9080620009319861\n",
            "0.8596031358002284\n",
            "0.5580168116304779\n"
          ]
        }
      ]
    }
  ]
}