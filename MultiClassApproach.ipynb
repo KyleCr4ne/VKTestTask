{
  "cells": [
    {
      "cell_type": "markdown",
      "metadata": {
        "id": "AxiBjcIRmT6f"
      },
      "source": [
        "# Мультиклассовая классификация\n",
        "\n",
        "В данном ноутбуке рассмотрим подход к задаче с точки зрения мультиклассовой классификации. То есть, мы не будем учитывать порядок классов, а попробуем просто спрогнозировать их, как равнозначные.\n",
        "\n",
        "В ноутбуке с анализом данных, исходя из корреляций признаков объектов и целевого значения, удалось установить, что многие признаки имеют высокую корреляцию с таргетом. Таким образом, стоит попробовать модель LogisticRegression.\n"
      ]
    },
    {
      "cell_type": "code",
      "execution_count": 4,
      "metadata": {
        "id": "YW6jkQSwl9YF"
      },
      "outputs": [],
      "source": [
        "import pandas as pd\n",
        "import numpy as np"
      ]
    },
    {
      "cell_type": "code",
      "execution_count": null,
      "metadata": {
        "id": "vfo1cN43nMzB"
      },
      "outputs": [],
      "source": [
        "df_train = pd.read_csv(\"/content/drive/MyDrive/intern_task_train.csv\")\n",
        "df_test = pd.read_csv(\"/content/drive/MyDrive/intern_task_test.csv\")"
      ]
    },
    {
      "cell_type": "markdown",
      "metadata": {
        "id": "8sdj4sexnXVg"
      },
      "source": [
        "Предварительно создадим функцию для оценки требуемой метрики ранжирования NDCG_5.\n",
        "\n",
        "Из анализа датасета, удалось установить, что количество документов, соответсвующих поисковой сессии, не имет фиксированную длину. А также может быть меньше 5."
      ]
    },
    {
      "cell_type": "code",
      "execution_count": 1,
      "metadata": {
        "id": "7W1Ozb5_nT23"
      },
      "outputs": [],
      "source": [
        "from sklearn.metrics import ndcg_score\n",
        "from sklearn.metrics import accuracy_score\n",
        "\n",
        "\n",
        "def NDCG_atK_score(test_Data, pred_Data, k, logits=False):\n",
        "  query_ids = test_Data['query_id'].unique()\n",
        "  y_true_sessions = [[rank for rank in test_Data[test_Data['query_id'] == id]['rank']] for id in query_ids]\n",
        "  y_pred_sessions = [[rank for rank in pred_Data[pred_Data['query_id'] == id]['rank']] for id in query_ids]\n",
        "  if logits:\n",
        "    print(y_true_sessions)\n",
        "    print(y_pred_sessions)\n",
        "  ndcg_scores = [ndcg_score([y_true_sessions[i]], [y_pred_sessions[i]], k=k) for i in range(len(y_true_sessions)) if len(y_true_sessions[i]) > 1]\n",
        "  return np.mean(ndcg_scores)"
      ]
    },
    {
      "cell_type": "markdown",
      "metadata": {
        "id": "0uexiImMYx-1"
      },
      "source": [
        "Подготовим данные: оставим из сильно коррелирующих признаков объектов только один признак (такие признаки были установлены при анализе датасета). Применим стандартизацию и используем OHE для кодирования категориальных признаков."
      ]
    },
    {
      "cell_type": "code",
      "execution_count": null,
      "metadata": {
        "id": "6KSC0bZKYtdY"
      },
      "outputs": [],
      "source": [
        "from sklearn.preprocessing import StandardScaler\n",
        "\n",
        "scaler = StandardScaler()\n",
        "\n",
        "to_drop = ['feature_14', 'feature_17', 'feature_19', 'feature_20',\n",
        "       'feature_29', 'feature_34', 'feature_35', 'feature_44',\n",
        "       'feature_74', 'feature_79', 'feature_84', 'feature_89',\n",
        "       'feature_94', 'feature_114', 'feature_119', 'feature_120',\n",
        "       'feature_121', 'feature_122', 'feature_123', 'feature_124',\n",
        "       'feature_142', 'feature_143']\n",
        "\n",
        "cat_features = ['feature_95', 'feature_96', 'feature_97', 'feature_98', 'feature_99']\n",
        "\n",
        "df_train = pd.get_dummies(df_train, columns=cat_features)\n",
        "df_test = pd.get_dummies(df_test, columns=cat_features)\n",
        "\n",
        "X_train = df_train.drop(columns=to_drop)\n",
        "X_train = X_train.drop(columns=['rank', 'query_id'])\n",
        "X_test = df_test.drop(columns=to_drop)\n",
        "X_test = X_test.drop(columns=['rank', 'query_id'])\n",
        "X_train = scaler.fit_transform(X_train)\n",
        "X_test = scaler.transform(X_test)"
      ]
    },
    {
      "cell_type": "code",
      "execution_count": null,
      "metadata": {
        "id": "eQLSdfuVzrc4"
      },
      "outputs": [],
      "source": [
        "from sklearn.linear_model import LogisticRegression"
      ]
    },
    {
      "cell_type": "code",
      "execution_count": null,
      "metadata": {
        "colab": {
          "base_uri": "https://localhost:8080/",
          "height": 74
        },
        "id": "oDbl8g77so6r",
        "outputId": "cdfbb0be-5b7c-4b88-e2b1-1d3e48c1c6c4"
      },
      "outputs": [
        {
          "data": {
            "text/html": [
              "<style>#sk-container-id-1 {color: black;background-color: white;}#sk-container-id-1 pre{padding: 0;}#sk-container-id-1 div.sk-toggleable {background-color: white;}#sk-container-id-1 label.sk-toggleable__label {cursor: pointer;display: block;width: 100%;margin-bottom: 0;padding: 0.3em;box-sizing: border-box;text-align: center;}#sk-container-id-1 label.sk-toggleable__label-arrow:before {content: \"▸\";float: left;margin-right: 0.25em;color: #696969;}#sk-container-id-1 label.sk-toggleable__label-arrow:hover:before {color: black;}#sk-container-id-1 div.sk-estimator:hover label.sk-toggleable__label-arrow:before {color: black;}#sk-container-id-1 div.sk-toggleable__content {max-height: 0;max-width: 0;overflow: hidden;text-align: left;background-color: #f0f8ff;}#sk-container-id-1 div.sk-toggleable__content pre {margin: 0.2em;color: black;border-radius: 0.25em;background-color: #f0f8ff;}#sk-container-id-1 input.sk-toggleable__control:checked~div.sk-toggleable__content {max-height: 200px;max-width: 100%;overflow: auto;}#sk-container-id-1 input.sk-toggleable__control:checked~label.sk-toggleable__label-arrow:before {content: \"▾\";}#sk-container-id-1 div.sk-estimator input.sk-toggleable__control:checked~label.sk-toggleable__label {background-color: #d4ebff;}#sk-container-id-1 div.sk-label input.sk-toggleable__control:checked~label.sk-toggleable__label {background-color: #d4ebff;}#sk-container-id-1 input.sk-hidden--visually {border: 0;clip: rect(1px 1px 1px 1px);clip: rect(1px, 1px, 1px, 1px);height: 1px;margin: -1px;overflow: hidden;padding: 0;position: absolute;width: 1px;}#sk-container-id-1 div.sk-estimator {font-family: monospace;background-color: #f0f8ff;border: 1px dotted black;border-radius: 0.25em;box-sizing: border-box;margin-bottom: 0.5em;}#sk-container-id-1 div.sk-estimator:hover {background-color: #d4ebff;}#sk-container-id-1 div.sk-parallel-item::after {content: \"\";width: 100%;border-bottom: 1px solid gray;flex-grow: 1;}#sk-container-id-1 div.sk-label:hover label.sk-toggleable__label {background-color: #d4ebff;}#sk-container-id-1 div.sk-serial::before {content: \"\";position: absolute;border-left: 1px solid gray;box-sizing: border-box;top: 0;bottom: 0;left: 50%;z-index: 0;}#sk-container-id-1 div.sk-serial {display: flex;flex-direction: column;align-items: center;background-color: white;padding-right: 0.2em;padding-left: 0.2em;position: relative;}#sk-container-id-1 div.sk-item {position: relative;z-index: 1;}#sk-container-id-1 div.sk-parallel {display: flex;align-items: stretch;justify-content: center;background-color: white;position: relative;}#sk-container-id-1 div.sk-item::before, #sk-container-id-1 div.sk-parallel-item::before {content: \"\";position: absolute;border-left: 1px solid gray;box-sizing: border-box;top: 0;bottom: 0;left: 50%;z-index: -1;}#sk-container-id-1 div.sk-parallel-item {display: flex;flex-direction: column;z-index: 1;position: relative;background-color: white;}#sk-container-id-1 div.sk-parallel-item:first-child::after {align-self: flex-end;width: 50%;}#sk-container-id-1 div.sk-parallel-item:last-child::after {align-self: flex-start;width: 50%;}#sk-container-id-1 div.sk-parallel-item:only-child::after {width: 0;}#sk-container-id-1 div.sk-dashed-wrapped {border: 1px dashed gray;margin: 0 0.4em 0.5em 0.4em;box-sizing: border-box;padding-bottom: 0.4em;background-color: white;}#sk-container-id-1 div.sk-label label {font-family: monospace;font-weight: bold;display: inline-block;line-height: 1.2em;}#sk-container-id-1 div.sk-label-container {text-align: center;}#sk-container-id-1 div.sk-container {/* jupyter's `normalize.less` sets `[hidden] { display: none; }` but bootstrap.min.css set `[hidden] { display: none !important; }` so we also need the `!important` here to be able to override the default hidden behavior on the sphinx rendered scikit-learn.org. See: https://github.com/scikit-learn/scikit-learn/issues/21755 */display: inline-block !important;position: relative;}#sk-container-id-1 div.sk-text-repr-fallback {display: none;}</style><div id=\"sk-container-id-1\" class=\"sk-top-container\"><div class=\"sk-text-repr-fallback\"><pre>LogisticRegression(class_weight=&#x27;balanced&#x27;, max_iter=1500)</pre><b>In a Jupyter environment, please rerun this cell to show the HTML representation or trust the notebook. <br />On GitHub, the HTML representation is unable to render, please try loading this page with nbviewer.org.</b></div><div class=\"sk-container\" hidden><div class=\"sk-item\"><div class=\"sk-estimator sk-toggleable\"><input class=\"sk-toggleable__control sk-hidden--visually\" id=\"sk-estimator-id-1\" type=\"checkbox\" checked><label for=\"sk-estimator-id-1\" class=\"sk-toggleable__label sk-toggleable__label-arrow\">LogisticRegression</label><div class=\"sk-toggleable__content\"><pre>LogisticRegression(class_weight=&#x27;balanced&#x27;, max_iter=1500)</pre></div></div></div></div></div>"
            ],
            "text/plain": [
              "LogisticRegression(class_weight='balanced', max_iter=1500)"
            ]
          },
          "execution_count": 6,
          "metadata": {},
          "output_type": "execute_result"
        }
      ],
      "source": [
        "logreg = LogisticRegression(max_iter=1500, class_weight='balanced')\n",
        "logreg.fit(X_train, df_train['rank'])"
      ]
    },
    {
      "cell_type": "code",
      "execution_count": null,
      "metadata": {
        "colab": {
          "base_uri": "https://localhost:8080/"
        },
        "id": "12qNzXWr-LVS",
        "outputId": "c3a2096c-42dc-4aef-c555-e9d95bb70a29"
      },
      "outputs": [
        {
          "name": "stdout",
          "output_type": "stream",
          "text": [
            "NDCG@5 score :  0.2890831176622812\n"
          ]
        }
      ],
      "source": [
        "outputs = logreg.predict(X_test)\n",
        "df_tmp = df_test.copy()\n",
        "df_tmp['rank'] = outputs\n",
        "print(\"NDCG@5 score : \", NDCG_atK_score(df_test, df_tmp, k=5))"
      ]
    },
    {
      "cell_type": "markdown",
      "metadata": {
        "id": "TGRotEm1_dVn"
      },
      "source": [
        "Так как NDCG@k принимает значения из диапазона $[0, 1]$, при этом лучше, чем ближе к 1, то можно сказать, что модель справилась плохо. Нужно искать другой подход к решению задачи."
      ]
    },
    {
      "cell_type": "markdown",
      "metadata": {
        "id": "UlrSWSYkOack"
      },
      "source": [
        "### Catboost Classifier\n",
        "\n",
        "Попробуем теперь воспользоваться градиентным бустингом с помощью фреймворка CatBoost. Вновь будем решать задачу с точки зрения мультиклассовой классификации."
      ]
    },
    {
      "cell_type": "code",
      "execution_count": 2,
      "metadata": {
        "colab": {
          "base_uri": "https://localhost:8080/"
        },
        "id": "Mb1x4sFdJY2q",
        "outputId": "cd6b6724-bdb6-4187-f8b9-8513ba8c695f"
      },
      "outputs": [
        {
          "name": "stdout",
          "output_type": "stream",
          "text": [
            "Installing collected packages: catboost\n",
            "Successfully installed catboost-1.2.5\n"
          ]
        }
      ],
      "source": [
        "!pip install catboost"
      ]
    },
    {
      "cell_type": "code",
      "execution_count": 11,
      "metadata": {
        "id": "ph3471aGJ0zq"
      },
      "outputs": [],
      "source": [
        "df_train = pd.read_csv(\"/content/drive/MyDrive/intern_task_train.csv\")\n",
        "df_test = pd.read_csv(\"/content/drive/MyDrive/intern_task_test.csv\")"
      ]
    },
    {
      "cell_type": "code",
      "execution_count": 12,
      "metadata": {
        "id": "CRImyMNcJ1qL"
      },
      "outputs": [],
      "source": [
        "cat_features = ['feature_95', 'feature_96', 'feature_97', 'feature_98', 'feature_99', 'feature_1', 'feature_3', 'feature_28']\n",
        "for feature in cat_features:\n",
        "  df_train[feature] = df_train[feature].astype(int)\n",
        "  df_test[feature] = df_test[feature].astype(int)"
      ]
    },
    {
      "cell_type": "code",
      "execution_count": null,
      "metadata": {
        "id": "jyhth641JnIG"
      },
      "outputs": [],
      "source": [
        "from catboost import CatBoostClassifier\n",
        "\n",
        "model = CatBoostClassifier(cat_features=cat_features, task_type=\"GPU\")\n",
        "\n",
        "model.fit(df_train.drop(columns=['query_id', 'rank']), df_train['rank'])"
      ]
    },
    {
      "cell_type": "code",
      "execution_count": 14,
      "metadata": {
        "colab": {
          "base_uri": "https://localhost:8080/"
        },
        "id": "G8afmG0LKS7j",
        "outputId": "8e6cda27-67cb-4615-c892-3b3a6682d40a"
      },
      "outputs": [
        {
          "name": "stdout",
          "output_type": "stream",
          "text": [
            "NDCG@5 score :  0.44620098274901776\n"
          ]
        }
      ],
      "source": [
        "outputs = model.predict(df_test.drop(columns=['query_id', 'rank']))\n",
        "df_tmp = df_test.copy()\n",
        "df_tmp['rank'] = outputs\n",
        "print(\"NDCG@5 score : \", NDCG_atK_score(df_test, df_tmp, k=5))"
      ]
    },
    {
      "cell_type": "markdown",
      "metadata": {
        "id": "tsFJsbr_LObV"
      },
      "source": [
        "С помощью градиентого бустинга получилось существенно улучшить показатели модели по метрике. Однако, результаты все еще нельзя назвать хорошими.\n",
        "\n",
        "Будем искать совершенно другой подход."
      ]
    }
  ],
  "metadata": {
    "accelerator": "GPU",
    "colab": {
      "gpuType": "T4",
      "provenance": []
    },
    "kernelspec": {
      "display_name": "Python 3",
      "name": "python3"
    },
    "language_info": {
      "name": "python"
    }
  },
  "nbformat": 4,
  "nbformat_minor": 0
}
