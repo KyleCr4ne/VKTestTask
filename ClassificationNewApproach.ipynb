{
  "nbformat": 4,
  "nbformat_minor": 0,
  "metadata": {
    "colab": {
      "provenance": []
    },
    "kernelspec": {
      "name": "python3",
      "display_name": "Python 3"
    },
    "language_info": {
      "name": "python"
    }
  },
  "cells": [
    {
      "cell_type": "markdown",
      "source": [
        "# Другой подход к классификации"
      ],
      "metadata": {
        "id": "eidmSw59I0ye"
      }
    },
    {
      "cell_type": "code",
      "execution_count": 206,
      "metadata": {
        "id": "f8keiQJcIwK6"
      },
      "outputs": [],
      "source": [
        "import pandas as pd\n",
        "import numpy as np\n",
        "\n",
        "df_train = pd.read_csv(\"/content/drive/MyDrive/intern_task_train.csv\")\n",
        "df_test = pd.read_csv(\"/content/drive/MyDrive/intern_task_test.csv\")"
      ]
    },
    {
      "cell_type": "code",
      "source": [
        "from sklearn.metrics import ndcg_score\n",
        "from sklearn.metrics import accuracy_score\n",
        "\n",
        "\n",
        "def NDCG_atK_score(test_Data, pred_Data, k, logits=False):\n",
        "  query_ids = test_Data['query_id'].unique()\n",
        "  test_Data_ranks = np.asarray([[test_Data[test_Data['query_id'] == id]['rank'].iloc[i] for i in range(min(len(test_Data[test_Data['query_id'] == id]), k))] + [0 for _ in range(max(0, k - len(test_Data[test_Data['query_id'] == id])))] for id in query_ids])\n",
        "  pred_Data_ranks = np.asarray([[pred_Data[pred_Data['query_id'] == id]['rank'].iloc[i] for i in range(min(len(pred_Data[pred_Data['query_id'] == id]), k))] + [0 for _ in range(max(0, k - len(pred_Data[pred_Data['query_id'] == id])))] for id in query_ids])\n",
        "  if logits:\n",
        "    print(test_Data_ranks)\n",
        "    print(pred_Data_ranks)\n",
        "  return ndcg_score(test_Data_ranks, pred_Data_ranks)"
      ],
      "metadata": {
        "id": "eN-fbePrJC7v"
      },
      "execution_count": 207,
      "outputs": []
    },
    {
      "cell_type": "markdown",
      "source": [
        "В этом подходе попробуем использовать факт упорядоченности классов ранга. Разделим на хорошие и плохие. Пусть, если объект имеет ранг 3 или 4, то соответсвующая метка 'good' будет иметь значение 1. Иначе - 0.\n",
        "\n",
        "Таким образом, мы сможем одним классификатором отделить хорошие объекты от плохих. Этот подход хорош тем, что во-первых, классификатору будет легче определить хороший класс или плохой, чем сравнивать очень близкие по классу объекты, во-вторых, учитывается упорядоченность.\n",
        "\n",
        "Кроме того, факт того, что объект имеет метку 1 в 'good' и находится далеко от разделяющей гиперплоскости, поможет отделить 4 от 3. Аналогично при метке 0."
      ],
      "metadata": {
        "id": "Fp1t-P3Hjx1C"
      }
    },
    {
      "cell_type": "markdown",
      "source": [
        "Добавим в датафрейм столбец 'good':"
      ],
      "metadata": {
        "id": "hLDA_BNykxh7"
      }
    },
    {
      "cell_type": "code",
      "source": [
        "df_train['good'] = (df_train['rank'] > 2).astype(int)"
      ],
      "metadata": {
        "id": "DoWgeEgUjwTW"
      },
      "execution_count": 208,
      "outputs": []
    },
    {
      "cell_type": "markdown",
      "source": [
        "Создадим класс для реализации идеи.\n",
        "\n",
        "Таким образом в данном классе классификатор учится отделять хорошие объекты от плохих. А затем преобразует полученные значения в метку 'rank'.\n",
        "\n",
        "Если вероятность объекта принадлежать к хорошему классу ближе к 1, чем к 0.5, то объекту присваивается метка 4. Иначе - 3.\n",
        "\n",
        "Аналогично, для плохих меток.\n",
        "\n",
        "Если же классификатор не может уверенно определить объект \"хороший\" или \"плохой\", то данному объекту присвоится метка 2."
      ],
      "metadata": {
        "id": "ZchYBGg6k4yx"
      }
    },
    {
      "cell_type": "code",
      "source": [
        "from sklearn.linear_model import LogisticRegression\n",
        "\n",
        "\n",
        "class Classifier():\n",
        "  def __init__(self):\n",
        "    self.estimator_good = LogisticRegression(max_iter=1500, class_weight='balanced')\n",
        "    self.EPS = 0.1\n",
        "\n",
        "  def fit(self, X, Y):\n",
        "    self.estimator_good.fit(X, Y['good'])\n",
        "\n",
        "  def predict(self, X):\n",
        "    self.y_pred_good = self.estimator_good.predict_proba(X)\n",
        "    return self.transform()\n",
        "\n",
        "\n",
        "  def transform(self):\n",
        "    y_pred_good = self.y_pred_good\n",
        "    output = []\n",
        "    for i in range(len(y_pred_good)):\n",
        "      if abs(y_pred_good[i][1] - y_pred_good[i][0]) < self.EPS:\n",
        "        output.append(2)\n",
        "      elif y_pred_good[i][1] > 0.5:\n",
        "        if abs(1 - y_pred_good[i][1]) < abs(0.5 - y_pred_good[i][1]):\n",
        "          output.append(4)\n",
        "        else:\n",
        "          output.append(3)\n",
        "      else:\n",
        "        if abs(1 - y_pred_good[i][0]) < abs(0.5 - y_pred_good[i][0]):\n",
        "          output.append(0)\n",
        "        else:\n",
        "          output.append(1)\n",
        "    return np.array(output)\n"
      ],
      "metadata": {
        "id": "aTK-xZ9lk-aQ"
      },
      "execution_count": 209,
      "outputs": []
    },
    {
      "cell_type": "code",
      "source": [
        "from sklearn.preprocessing import StandardScaler\n",
        "\n",
        "scaler = StandardScaler()\n",
        "\n",
        "to_drop = ['feature_14', 'feature_17', 'feature_19', 'feature_20',\n",
        "       'feature_29', 'feature_34', 'feature_35', 'feature_44',\n",
        "       'feature_74', 'feature_79', 'feature_84', 'feature_89',\n",
        "       'feature_94', 'feature_114', 'feature_119', 'feature_120',\n",
        "       'feature_121', 'feature_122', 'feature_123', 'feature_124',\n",
        "       'feature_142', 'feature_143']\n",
        "\n",
        "\n",
        "cat_features = ['feature_95', 'feature_96', 'feature_97', 'feature_98', 'feature_99']\n",
        "\n",
        "df_train = pd.get_dummies(df_train, columns=cat_features)\n",
        "df_test = pd.get_dummies(df_test, columns=cat_features)\n",
        "\n",
        "X_train = df_train.drop(columns=to_drop)\n",
        "X_train = X_train.drop(columns=['rank', 'query_id', 'good'])\n",
        "X_test = df_test.drop(columns=to_drop)\n",
        "X_test = X_test.drop(columns=['rank', 'query_id'])\n",
        "X_train = scaler.fit_transform(X_train)\n",
        "X_test = scaler.transform(X_test)"
      ],
      "metadata": {
        "id": "PambI6p0masc"
      },
      "execution_count": 210,
      "outputs": []
    },
    {
      "cell_type": "code",
      "source": [
        "est = Classifier()\n",
        "est.fit(X_train, df_train)"
      ],
      "metadata": {
        "id": "DTQ5VOaiovoq"
      },
      "execution_count": 211,
      "outputs": []
    },
    {
      "cell_type": "code",
      "source": [
        "y = est.predict(X_test)"
      ],
      "metadata": {
        "id": "OAOp0o8Qoyoe"
      },
      "execution_count": 212,
      "outputs": []
    },
    {
      "cell_type": "code",
      "source": [
        "df_tmp = df_test.copy()\n",
        "df_tmp['rank'] = y\n",
        "print(\"NDCG@5 score : \", NDCG_atK_score(df_test, df_tmp, k=5))\n",
        "print(\"NDCG@10 score : \", NDCG_atK_score(df_test, df_tmp, k=10))"
      ],
      "metadata": {
        "colab": {
          "base_uri": "https://localhost:8080/"
        },
        "id": "WX4g41z6oz7u",
        "outputId": "4b3887e6-5214-491e-ce40-ebf615c81860"
      },
      "execution_count": 213,
      "outputs": [
        {
          "output_type": "stream",
          "name": "stdout",
          "text": [
            "NDCG@5 score :  0.914988473160503\n",
            "NDCG@10 score :  0.8892809409107936\n"
          ]
        }
      ]
    },
    {
      "cell_type": "code",
      "source": [
        "NDCG_atK_score(df_test, df_tmp, k=10, logits=True)"
      ],
      "metadata": {
        "colab": {
          "base_uri": "https://localhost:8080/"
        },
        "id": "4_F22414o0__",
        "outputId": "e1d7ad8f-34ec-490c-be88-6f3dfba43a3f"
      },
      "execution_count": 214,
      "outputs": [
        {
          "output_type": "stream",
          "name": "stdout",
          "text": [
            "[[1 1 1 ... 1 1 1]\n",
            " [4 3 2 ... 2 2 2]\n",
            " [4 3 2 ... 1 1 1]\n",
            " ...\n",
            " [4 4 4 ... 4 4 4]\n",
            " [3 3 3 ... 2 2 2]\n",
            " [3 2 2 ... 1 1 1]]\n",
            "[[0 1 0 ... 0 1 1]\n",
            " [3 1 2 ... 3 1 1]\n",
            " [3 3 1 ... 1 0 1]\n",
            " ...\n",
            " [3 3 3 ... 3 3 1]\n",
            " [4 3 3 ... 4 4 3]\n",
            " [2 1 1 ... 3 2 3]]\n"
          ]
        },
        {
          "output_type": "execute_result",
          "data": {
            "text/plain": [
              "0.8892809409107936"
            ]
          },
          "metadata": {},
          "execution_count": 214
        }
      ]
    }
  ]
}