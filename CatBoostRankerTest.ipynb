{
  "cells": [
    {
      "cell_type": "code",
      "execution_count": 8,
      "metadata": {
        "id": "xxFXuBguyAM_"
      },
      "outputs": [],
      "source": [
        "import pandas as pd\n",
        "import numpy as np\n",
        "\n",
        "df_train = pd.read_csv(\"/content/drive/MyDrive/intern_task_train.csv\")\n",
        "df_test = pd.read_csv(\"/content/drive/MyDrive/intern_task_test.csv\")"
      ]
    },
    {
      "cell_type": "code",
      "execution_count": 2,
      "metadata": {
        "id": "Ox1YdUR8yxGz"
      },
      "outputs": [],
      "source": [
        "from sklearn.metrics import ndcg_score\n",
        "from sklearn.metrics import accuracy_score\n",
        "\n",
        "\n",
        "def NDCG_atK_score(test_Data, pred_Data, k, logits=False):\n",
        "  query_ids = test_Data['query_id'].unique()\n",
        "  y_true_sessions = [[rank for rank in test_Data[test_Data['query_id'] == id]['rank']] for id in query_ids]\n",
        "  y_pred_sessions = [[rank for rank in pred_Data[pred_Data['query_id'] == id]['rank']] for id in query_ids]\n",
        "  if logits:\n",
        "    print(y_true_sessions)\n",
        "    print(y_pred_sessions)\n",
        "  ndcg_scores = [ndcg_score([y_true_sessions[i]], [y_pred_sessions[i]], k=k) for i in range(len(y_true_sessions)) if len(y_true_sessions[i]) > 1]\n",
        "  return np.mean(ndcg_scores)"
      ]
    },
    {
      "cell_type": "code",
      "execution_count": 3,
      "metadata": {
        "colab": {
          "base_uri": "https://localhost:8080/"
        },
        "id": "KSd_DOI2yyzY",
        "outputId": "8e00a70f-c511-4c01-8906-579741bda40a"
      },
      "outputs": [
        {
          "name": "stdout",
          "output_type": "stream",
          "text": [
            "Installing collected packages: catboost\n",
            "Successfully installed catboost-1.2.5\n"
          ]
        }
      ],
      "source": [
        "!pip install catboost"
      ]
    },
    {
      "cell_type": "code",
      "execution_count": 10,
      "metadata": {
        "id": "LDIevtnTyzs6"
      },
      "outputs": [],
      "source": [
        "from catboost import Pool\n",
        "X_train = df_train.drop(columns=['rank', 'query_id'])\n",
        "y_train = df_train['rank'] / 5.0\n",
        "queries_train = df_train['query_id']\n",
        "\n",
        "X_test = df_test.drop(columns=['rank', 'query_id'])\n",
        "\n",
        "df_test['rank'] = df_test['rank'] / 5.0\n",
        "\n",
        "train = Pool(\n",
        "    data=X_train,\n",
        "    label=y_train.values,\n",
        "    group_id=queries_train\n",
        ")"
      ]
    },
    {
      "cell_type": "code",
      "execution_count": null,
      "metadata": {
        "id": "bOxUtDXRy3tr"
      },
      "outputs": [],
      "source": [
        "from catboost import CatBoostRanker\n",
        "\n",
        "RESULTS = {}\n",
        "loss_functions = ['PairLogit', 'PairLogitPairwise', 'YetiRank', 'YetiRankPairwise']\n",
        "for loss_func in loss_functions:\n",
        "  model = CatBoostRanker(loss_function=loss_func, task_type=\"GPU\")\n",
        "  model.fit(train)\n",
        "  y_pred = model.predict(X_test)\n",
        "  df_tmp = df_test.copy()\n",
        "  df_tmp['rank'] = y_pred\n",
        "  RESULTS[loss_func] = NDCG_atK_score(df_test, df_tmp, k=5)"
      ]
    },
    {
      "cell_type": "code",
      "execution_count": 17,
      "metadata": {
        "colab": {
          "base_uri": "https://localhost:8080/"
        },
        "id": "3TjA5lWtbFOo",
        "outputId": "7bb8d523-7018-454e-b85f-047d260df5ad"
      },
      "outputs": [
        {
          "data": {
            "text/plain": [
              "{'PairLogit': 0.531813173260355,\n",
              " 'PairLogitPairwise': 0.526202194353459,\n",
              " 'YetiRank': 0.5313333315941151,\n",
              " 'YetiRankPairwise': 0.5290864253036566}"
            ]
          },
          "execution_count": 17,
          "metadata": {},
          "output_type": "execute_result"
        }
      ],
      "source": [
        "RESULTS"
      ]
    }
  ],
  "metadata": {
    "accelerator": "GPU",
    "colab": {
      "gpuType": "T4",
      "provenance": []
    },
    "kernelspec": {
      "display_name": "Python 3",
      "name": "python3"
    },
    "language_info": {
      "name": "python"
    }
  },
  "nbformat": 4,
  "nbformat_minor": 0
}
